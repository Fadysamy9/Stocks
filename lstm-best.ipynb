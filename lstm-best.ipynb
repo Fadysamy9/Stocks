{
 "cells": [
  {
   "cell_type": "markdown",
   "metadata": {
    "_cell_guid": "b1076dfc-b9ad-4769-8c92-a6c4dae69d19",
    "_kg_hide-input": false,
    "_uuid": "8f2839f25d086af736a60e9eeb907d3b93b6e0e5",
    "tags": []
   },
   "source": [
    "## The libarare \n",
    "\n"
   ]
  },
  {
   "cell_type": "code",
   "execution_count": 1,
   "metadata": {},
   "outputs": [],
   "source": [
    "import pandas as pd\n",
    "import numpy as np\n",
    "import matplotlib.pyplot as plot\n",
    "#import pandas_ta as ta\n",
    "# for reproducibility of our results\n",
    "from sklearn.metrics import r2_score , mean_squared_error \n",
    "\n",
    "from sklearn.preprocessing import MinMaxScaler\n",
    "from keras.models import Sequential\n",
    "from keras.layers import Dense, Dropout, LSTM ,BatchNormalization\n",
    "from keras.callbacks import ModelCheckpoint\n",
    "from tensorflow.keras.layers import Embedding\n",
    "from keras.callbacks import TensorBoard, EarlyStopping\n",
    "import tensorflow as tf\n",
    "import keras\n",
    "from keras import optimizers\n",
    "from keras.callbacks import History\n",
    "np.random.seed(10)"
   ]
  },
  {
   "cell_type": "markdown",
   "metadata": {},
   "source": [
    "1- recal\n",
    "2- F1 score\n",
    "3 persision\n",
    "k fold cv\n"
   ]
  },
  {
   "cell_type": "code",
   "execution_count": 2,
   "metadata": {},
   "outputs": [],
   "source": [
    "import tensorflow as tf"
   ]
  },
  {
   "cell_type": "code",
   "execution_count": 3,
   "metadata": {
    "tags": []
   },
   "outputs": [
    {
     "name": "stdout",
     "output_type": "stream",
     "text": [
      "2.6.0\n"
     ]
    }
   ],
   "source": [
    "print(tf.__version__)"
   ]
  },
  {
   "cell_type": "code",
   "execution_count": 4,
   "metadata": {},
   "outputs": [
    {
     "name": "stdout",
     "output_type": "stream",
     "text": [
      "WARNING:tensorflow:From C:\\Users\\fadys\\AppData\\Local\\Temp\\ipykernel_1800\\2294581100.py:1: is_gpu_available (from tensorflow.python.framework.test_util) is deprecated and will be removed in a future version.\n",
      "Instructions for updating:\n",
      "Use `tf.config.list_physical_devices('GPU')` instead.\n"
     ]
    },
    {
     "data": {
      "text/plain": [
       "True"
      ]
     },
     "execution_count": 4,
     "metadata": {},
     "output_type": "execute_result"
    }
   ],
   "source": [
    "tf.test.is_gpu_available()\n"
   ]
  },
  {
   "cell_type": "code",
   "execution_count": 5,
   "metadata": {
    "execution": {
     "iopub.execute_input": "2023-05-07T09:09:17.299507Z",
     "iopub.status.busy": "2023-05-07T09:09:17.299150Z",
     "iopub.status.idle": "2023-05-07T09:09:18.666471Z",
     "shell.execute_reply": "2023-05-07T09:09:18.665539Z",
     "shell.execute_reply.started": "2023-05-07T09:09:17.299476Z"
    }
   },
   "outputs": [
    {
     "data": {
      "text/html": [
       "<div>\n",
       "<style scoped>\n",
       "    .dataframe tbody tr th:only-of-type {\n",
       "        vertical-align: middle;\n",
       "    }\n",
       "\n",
       "    .dataframe tbody tr th {\n",
       "        vertical-align: top;\n",
       "    }\n",
       "\n",
       "    .dataframe thead th {\n",
       "        text-align: right;\n",
       "    }\n",
       "</style>\n",
       "<table border=\"1\" class=\"dataframe\">\n",
       "  <thead>\n",
       "    <tr style=\"text-align: right;\">\n",
       "      <th></th>\n",
       "      <th>Close</th>\n",
       "    </tr>\n",
       "    <tr>\n",
       "      <th>Date</th>\n",
       "      <th></th>\n",
       "    </tr>\n",
       "  </thead>\n",
       "  <tbody>\n",
       "    <tr>\n",
       "      <th>1999-01-04 07:05:00</th>\n",
       "      <td>113.520</td>\n",
       "    </tr>\n",
       "    <tr>\n",
       "      <th>1999-01-04 07:10:00</th>\n",
       "      <td>113.500</td>\n",
       "    </tr>\n",
       "    <tr>\n",
       "      <th>1999-01-04 07:15:00</th>\n",
       "      <td>113.510</td>\n",
       "    </tr>\n",
       "    <tr>\n",
       "      <th>1999-01-04 07:20:00</th>\n",
       "      <td>113.500</td>\n",
       "    </tr>\n",
       "    <tr>\n",
       "      <th>1999-01-04 07:25:00</th>\n",
       "      <td>113.570</td>\n",
       "    </tr>\n",
       "    <tr>\n",
       "      <th>...</th>\n",
       "      <td>...</td>\n",
       "    </tr>\n",
       "    <tr>\n",
       "      <th>2023-08-04 09:40:00</th>\n",
       "      <td>142.578</td>\n",
       "    </tr>\n",
       "    <tr>\n",
       "      <th>2023-08-04 09:45:00</th>\n",
       "      <td>142.651</td>\n",
       "    </tr>\n",
       "    <tr>\n",
       "      <th>2023-08-04 09:50:00</th>\n",
       "      <td>142.650</td>\n",
       "    </tr>\n",
       "    <tr>\n",
       "      <th>2023-08-04 09:55:00</th>\n",
       "      <td>142.645</td>\n",
       "    </tr>\n",
       "    <tr>\n",
       "      <th>2023-08-04 10:00:00</th>\n",
       "      <td>142.606</td>\n",
       "    </tr>\n",
       "  </tbody>\n",
       "</table>\n",
       "<p>1820630 rows × 1 columns</p>\n",
       "</div>"
      ],
      "text/plain": [
       "                       Close\n",
       "Date                        \n",
       "1999-01-04 07:05:00  113.520\n",
       "1999-01-04 07:10:00  113.500\n",
       "1999-01-04 07:15:00  113.510\n",
       "1999-01-04 07:20:00  113.500\n",
       "1999-01-04 07:25:00  113.570\n",
       "...                      ...\n",
       "2023-08-04 09:40:00  142.578\n",
       "2023-08-04 09:45:00  142.651\n",
       "2023-08-04 09:50:00  142.650\n",
       "2023-08-04 09:55:00  142.645\n",
       "2023-08-04 10:00:00  142.606\n",
       "\n",
       "[1820630 rows x 1 columns]"
      ]
     },
     "execution_count": 5,
     "metadata": {},
     "output_type": "execute_result"
    }
   ],
   "source": [
    "training_set_data = pd.read_csv('USDJPY_M5.csv' , sep=\"\\t\")\n",
    "training_set_data['Date'] = training_set_data['Date'] + \" \"+training_set_data['Time']\n",
    "training_set_data['Date'] = pd.to_datetime(training_set_data['Date'])\n",
    "training_set_data.sort_values(by='Date')\n",
    "training_set_data.set_index(\"Date\" , inplace=True)\n",
    "training_set_data.drop(columns=[\"TICKVOL\",\"VOL\",'SPREAD','Time','Open','High','Low'], inplace=True)\n",
    "\n",
    "training_set_data\n",
    "\n",
    "# training_set_data['Next'] =  training_set_data[\"Close\"].shift(-1)\n",
    "# training_set_data['Target'] = (training_set_data['Next'] > training_set_data['Close']).as\n",
    "# del training_set_data['Next']\n",
    "#dataset_train = dataset_train.drop([0,1127739])\n",
    "\n",
    "#training_set_data = training_set_data.drop(columns=[\"Unnamed: 0\",\"Volume\",])\n",
    "#\"PSAR\",\"Upper\",\"Lower\",\"Upper_band\",\"Lower_band\",\"FAMA\",\"Ma20\",\"Middle\",\"Ema\",\"Ma10\",\"SMA8\",\"MAMA\",\"WMA\",\"MidPoint\",\"Ma5\",\"TSF\",\"DEMA\",])\n",
    "# training_set_data['DateTime']=pd.to_datetime(training_set_data['DATE'] +' '+ training_set_data['TIME'],format='%Y-%m-%d %H:%M:%S')\n",
    "# del training_set_data['TIME']\n",
    "# del training_set_data['DATE']"
   ]
  },
  {
   "cell_type": "code",
   "execution_count": 6,
   "metadata": {},
   "outputs": [
    {
     "name": "stdout",
     "output_type": "stream",
     "text": [
      "Train Dataset: (1407896, 1)\n",
      "Test Dataset: (193459, 1)\n"
     ]
    }
   ],
   "source": [
    "# create train test partition\n",
    "train = training_set_data['2002-01-04 10:20:00':'2021-01-04 10:20:00']\n",
    "test  = training_set_data['2021-01-04 10:25:00':]\n",
    "print('Train Dataset:',train.shape)\n",
    "print('Test Dataset:',test.shape)"
   ]
  },
  {
   "cell_type": "code",
   "execution_count": 7,
   "metadata": {},
   "outputs": [
    {
     "data": {
      "text/plain": [
       "<Axes: ylabel='Density'>"
      ]
     },
     "execution_count": 7,
     "metadata": {},
     "output_type": "execute_result"
    },
    {
     "data": {
      "image/png": "[encoded data removed]",
      "text/plain": [
       "<Figure size 640x480 with 1 Axes>"
      ]
     },
     "metadata": {},
     "output_type": "display_data"
    }
   ],
   "source": [
    "train.plot.kde()"
   ]
  },
  {
   "cell_type": "code",
   "execution_count": 8,
   "metadata": {},
   "outputs": [
    {
     "data": {
      "text/plain": [
       "{'whiskers': [<matplotlib.lines.Line2D at 0x1aa1aebba30>,\n",
       "  <matplotlib.lines.Line2D at 0x1aa1aebbcd0>],\n",
       " 'caps': [<matplotlib.lines.Line2D at 0x1aa1aebbf70>,\n",
       "  <matplotlib.lines.Line2D at 0x1aa1aed0250>],\n",
       " 'boxes': [<matplotlib.lines.Line2D at 0x1aa1aebb790>],\n",
       " 'medians': [<matplotlib.lines.Line2D at 0x1aa1aed04f0>],\n",
       " 'fliers': [<matplotlib.lines.Line2D at 0x1aa1aed0790>],\n",
       " 'means': []}"
      ]
     },
     "execution_count": 8,
     "metadata": {},
     "output_type": "execute_result"
    },
    {
     "data": {
      "image/png": "[encoded data removed]",
      "text/plain": [
       "<Figure size 640x480 with 1 Axes>"
      ]
     },
     "metadata": {},
     "output_type": "display_data"
    }
   ],
   "source": [
    "plot.boxplot(train['Close'])"
   ]
  },
  {
   "cell_type": "code",
   "execution_count": 8,
   "metadata": {},
   "outputs": [
    {
     "data": {
      "text/plain": [
       "0.13728036192211523"
      ]
     },
     "execution_count": 8,
     "metadata": {},
     "output_type": "execute_result"
    }
   ],
   "source": [
    "193478/1409364"
   ]
  },
  {
   "cell_type": "code",
   "execution_count": 9,
   "metadata": {},
   "outputs": [],
   "source": [
    "from joblib  import dump, load"
   ]
  },
  {
   "cell_type": "code",
   "execution_count": 10,
   "metadata": {
    "execution": {
     "iopub.execute_input": "2023-05-07T09:09:30.619822Z",
     "iopub.status.busy": "2023-05-07T09:09:30.619413Z",
     "iopub.status.idle": "2023-05-07T09:09:30.656782Z",
     "shell.execute_reply": "2023-05-07T09:09:30.655669Z",
     "shell.execute_reply.started": "2023-05-07T09:09:30.619784Z"
    }
   },
   "outputs": [],
   "source": [
    "from sklearn.preprocessing import RobustScaler\n",
    "sc = RobustScaler()\n",
    "\n",
    "training_set_scaled = sc.fit_transform(train)\n",
    "\n",
    "#Y_training_set = sct.fit_transform(Y_training_set)"
   ]
  },
  {
   "cell_type": "code",
   "execution_count": 11,
   "metadata": {},
   "outputs": [
    {
     "data": {
      "text/plain": [
       "['USDJPY_M5_Scaler2R.bin']"
      ]
     },
     "execution_count": 11,
     "metadata": {},
     "output_type": "execute_result"
    }
   ],
   "source": [
    "\n",
    "dump(sc, 'USDJPY_M5_Scaler2R.bin', compress=True)"
   ]
  },
  {
   "cell_type": "code",
   "execution_count": 13,
   "metadata": {
    "execution": {
     "iopub.execute_input": "2023-05-07T07:12:01.790436Z",
     "iopub.status.busy": "2023-05-07T07:12:01.789904Z",
     "iopub.status.idle": "2023-05-07T07:12:01.796967Z",
     "shell.execute_reply": "2023-05-07T07:12:01.795854Z",
     "shell.execute_reply.started": "2023-05-07T07:12:01.790403Z"
    }
   },
   "outputs": [
    {
     "data": {
      "text/plain": [
       "array([[ 1.41073658],\n",
       "       [ 1.41635456],\n",
       "       [ 1.41573034],\n",
       "       ...,\n",
       "       [-0.34400749],\n",
       "       [-0.34556804],\n",
       "       [-0.34737828]])"
      ]
     },
     "execution_count": 13,
     "metadata": {},
     "output_type": "execute_result"
    }
   ],
   "source": [
    "training_set_scaled"
   ]
  },
  {
   "cell_type": "code",
   "execution_count": null,
   "metadata": {},
   "outputs": [],
   "source": []
  },
  {
   "cell_type": "code",
   "execution_count": null,
   "metadata": {
    "execution": {
     "iopub.execute_input": "2023-04-25T22:13:32.192034Z",
     "iopub.status.busy": "2023-04-25T22:13:32.191687Z",
     "iopub.status.idle": "2023-04-25T22:13:32.196795Z",
     "shell.execute_reply": "2023-04-25T22:13:32.195388Z",
     "shell.execute_reply.started": "2023-04-25T22:13:32.192005Z"
    }
   },
   "outputs": [],
   "source": [
    "# X = []\n",
    "# Y = []\n",
    "# for i in range(n_past, len(x)-n_past, n_past):\n",
    "#     X.append(x[i:i+n_past])\n",
    "#     Y.append(x[i+n_past])"
   ]
  },
  {
   "cell_type": "code",
   "execution_count": 19,
   "metadata": {},
   "outputs": [],
   "source": [
    "Y = training_set_data['Close'].values"
   ]
  },
  {
   "cell_type": "code",
   "execution_count": 20,
   "metadata": {},
   "outputs": [
    {
     "data": {
      "text/plain": [
       "array([113.52 , 113.5  , 113.51 , ..., 142.65 , 142.645, 142.606])"
      ]
     },
     "execution_count": 20,
     "metadata": {},
     "output_type": "execute_result"
    }
   ],
   "source": [
    "Y"
   ]
  },
  {
   "cell_type": "code",
   "execution_count": 21,
   "metadata": {
    "execution": {
     "iopub.execute_input": "2023-05-07T09:09:34.079444Z",
     "iopub.status.busy": "2023-05-07T09:09:34.078722Z",
     "iopub.status.idle": "2023-05-07T09:09:34.202660Z",
     "shell.execute_reply": "2023-05-07T09:09:34.201695Z",
     "shell.execute_reply.started": "2023-05-07T09:09:34.079408Z"
    }
   },
   "outputs": [],
   "source": [
    "n_future = 1\n",
    "n_past = 30\n",
    "X_train = []\n",
    "y_train = []\n",
    "for i in range( n_past , len(training_set_scaled)):\n",
    "    X_train.append(training_set_scaled[i-n_past:i   ])\n",
    "    y_train.append(training_set_scaled[i + n_future - 1 ]) "
   ]
  },
  {
   "cell_type": "code",
   "execution_count": 22,
   "metadata": {
    "execution": {
     "iopub.execute_input": "2023-05-07T09:09:35.649309Z",
     "iopub.status.busy": "2023-05-07T09:09:35.648954Z",
     "iopub.status.idle": "2023-05-07T09:09:35.740327Z",
     "shell.execute_reply": "2023-05-07T09:09:35.739333Z",
     "shell.execute_reply.started": "2023-05-07T09:09:35.649280Z"
    }
   },
   "outputs": [],
   "source": [
    "from sklearn.model_selection import train_test_split\n",
    "X_train, X_test, y_train, y_test = train_test_split(X_train, y_train, test_size=0.01, random_state=42,shuffle=True)"
   ]
  },
  {
   "cell_type": "code",
   "execution_count": 23,
   "metadata": {
    "execution": {
     "iopub.execute_input": "2023-05-07T09:09:37.523066Z",
     "iopub.status.busy": "2023-05-07T09:09:37.522670Z",
     "iopub.status.idle": "2023-05-07T09:09:38.334030Z",
     "shell.execute_reply": "2023-05-07T09:09:38.332653Z",
     "shell.execute_reply.started": "2023-05-07T09:09:37.523032Z"
    }
   },
   "outputs": [],
   "source": [
    "X_train, y_train = np.array(X_train), np.array(y_train)\n"
   ]
  },
  {
   "cell_type": "code",
   "execution_count": 24,
   "metadata": {
    "execution": {
     "iopub.execute_input": "2023-05-07T09:09:39.609122Z",
     "iopub.status.busy": "2023-05-07T09:09:39.608722Z",
     "iopub.status.idle": "2023-05-07T09:09:39.614593Z",
     "shell.execute_reply": "2023-05-07T09:09:39.613634Z",
     "shell.execute_reply.started": "2023-05-07T09:09:39.609088Z"
    }
   },
   "outputs": [],
   "source": [
    "X_train = np.reshape(X_train, (X_train.shape[0], X_train.shape[1],1))\n",
    " "
   ]
  },
  {
   "cell_type": "code",
   "execution_count": 25,
   "metadata": {
    "execution": {
     "iopub.execute_input": "2023-05-07T07:59:21.213038Z",
     "iopub.status.busy": "2023-05-07T07:59:21.212690Z",
     "iopub.status.idle": "2023-05-07T07:59:21.219329Z",
     "shell.execute_reply": "2023-05-07T07:59:21.218305Z",
     "shell.execute_reply.started": "2023-05-07T07:59:21.213007Z"
    }
   },
   "outputs": [
    {
     "data": {
      "text/plain": [
       "(1393787, 30, 1)"
      ]
     },
     "execution_count": 25,
     "metadata": {},
     "output_type": "execute_result"
    }
   ],
   "source": [
    "X_train.shape"
   ]
  },
  {
   "cell_type": "code",
   "execution_count": null,
   "metadata": {
    "execution": {
     "iopub.execute_input": "2023-05-07T09:09:41.656144Z",
     "iopub.status.busy": "2023-05-07T09:09:41.655758Z",
     "iopub.status.idle": "2023-05-07T09:09:41.664568Z",
     "shell.execute_reply": "2023-05-07T09:09:41.663582Z",
     "shell.execute_reply.started": "2023-05-07T09:09:41.656109Z"
    }
   },
   "outputs": [],
   "source": []
  },
  {
   "cell_type": "code",
   "execution_count": 26,
   "metadata": {
    "execution": {
     "iopub.execute_input": "2023-05-07T09:09:44.018839Z",
     "iopub.status.busy": "2023-05-07T09:09:44.018485Z",
     "iopub.status.idle": "2023-05-07T09:09:44.023845Z",
     "shell.execute_reply": "2023-05-07T09:09:44.022796Z",
     "shell.execute_reply.started": "2023-05-07T09:09:44.018806Z"
    }
   },
   "outputs": [],
   "source": [
    "from tensorflow.keras.layers import Bidirectional"
   ]
  },
  {
   "cell_type": "code",
   "execution_count": 27,
   "metadata": {
    "execution": {
     "iopub.execute_input": "2023-05-07T09:09:45.802697Z",
     "iopub.status.busy": "2023-05-07T09:09:45.801767Z",
     "iopub.status.idle": "2023-05-07T09:09:50.216149Z",
     "shell.execute_reply": "2023-05-07T09:09:50.215117Z",
     "shell.execute_reply.started": "2023-05-07T09:09:45.802657Z"
    }
   },
   "outputs": [
    {
     "name": "stdout",
     "output_type": "stream",
     "text": [
      "Model: \"sequential\"\n",
      "_________________________________________________________________\n",
      "Layer (type)                 Output Shape              Param #   \n",
      "=================================================================\n",
      "bidirectional (Bidirectional (None, 30, 512)           2105344   \n",
      "_________________________________________________________________\n",
      "lstm_1 (LSTM)                (None, 30, 256)           787456    \n",
      "_________________________________________________________________\n",
      "lstm_2 (LSTM)                (None, 30, 256)           525312    \n",
      "_________________________________________________________________\n",
      "lstm_3 (LSTM)                (None, 30, 128)           197120    \n",
      "_________________________________________________________________\n",
      "lstm_4 (LSTM)                (None, 30, 128)           131584    \n",
      "_________________________________________________________________\n",
      "lstm_5 (LSTM)                (None, 64)                49408     \n",
      "_________________________________________________________________\n",
      "dropout (Dropout)            (None, 64)                0         \n",
      "_________________________________________________________________\n",
      "batch_normalization (BatchNo (None, 64)                256       \n",
      "_________________________________________________________________\n",
      "dense (Dense)                (None, 1)                 65        \n",
      "=================================================================\n",
      "Total params: 3,796,545\n",
      "Trainable params: 3,796,417\n",
      "Non-trainable params: 128\n",
      "_________________________________________________________________\n"
     ]
    }
   ],
   "source": [
    "#earlyStoppingCallback = tf.keras.callbacks.EarlyStopping(monitor='loss', patience=3)\n",
    "model = Sequential()\n",
    "# model.add(Conv1D(filters=64, kernel_size=9, activation='relu', input_shape=(120, 21)))\n",
    "# model.add(MaxPooling1D(pool_size=2))\n",
    "# model.add(BatchNormalization()) \n",
    "# model.add(Conv1D(filters=32, kernel_size=9, activation='relu'))\n",
    "# model.add(MaxPooling1D(pool_size=2))\n",
    "# model.add(BatchNormalization()) \n",
    "# model.add(Conv1D(filters=8, kernel_size=9, activation='tanh'))\n",
    "# model.add(MaxPooling1D(pool_size=2))\n",
    "# model.add(BatchNormalization()) \n",
    "# model.add(Dropout(0.2))\n",
    "\n",
    "model.add(\n",
    "    Bidirectional(LSTM(512, input_shape=(X_train.shape[1],X_train.shape[2]),\n",
    "                       return_sequences=True),\n",
    "                  merge_mode='sum',\n",
    "                  weights=None,\n",
    "                  input_shape=(X_train.shape[1], X_train.shape[2])))\n",
    "#model.add(Dropout(0.2))\n",
    "#model.add(BatchNormalization())  #normalizes activation outputs, same reason you want to normalize your input data.\n",
    "    \n",
    "model.add(LSTM(256, return_sequences=True))\n",
    "# model.add(Dropout(0.2))\n",
    "# model.add(BatchNormalization())\n",
    "\n",
    "model.add(LSTM(256, return_sequences=True))\n",
    "# model.add(Dropout(0.2))\n",
    "# model.add(BatchNormalization())\n",
    "\n",
    "model.add(LSTM(128,return_sequences=True))\n",
    "# model.add(Dropout(0.2))\n",
    "# model.add(BatchNormalization())\n",
    "    \n",
    "model.add(LSTM(128,return_sequences=True))\n",
    "# model.add(Dropout(0.2))\n",
    "# model.add(BatchNormalization())\n",
    "\n",
    "model.add(LSTM(64,return_sequences=False))\n",
    "model.add(Dropout(0.2))\n",
    "model.add(BatchNormalization())\n",
    "\n",
    "# model.add(Dense(64 ,kernel_initializer='uniform', activation='linear'))\n",
    "# model.add(Dropout(0.2))\n",
    "# model.add(BatchNormalization()) \n",
    "\n",
    "# model.add(Dense(16 ,kernel_initializer='uniform', activation='linear'))\n",
    "# model.add(Dropout(0.2))\n",
    "# model.add(BatchNormalization())\n",
    "    \n",
    "model.add(Dense(1, activation='linear'))\n",
    "    \n",
    "model.compile(loss='mean_squared_error', optimizer=tf.keras.optimizers.Adam(learning_rate=0.001))\n",
    "\n",
    "model.summary()\n",
    "filepath = \"USDJPY_M5R.h5\"  # unique file name that will include the epoch and the validation acc for that epoch\n",
    "checkpoint = ModelCheckpoint(filepath, monitor='val_loss', verbose=1, save_best_only=True, mode='min') # saves only the best ones"
   ]
  },
  {
   "cell_type": "code",
   "execution_count": null,
   "metadata": {
    "execution": {
     "iopub.execute_input": "2023-05-07T09:09:51.426592Z",
     "iopub.status.busy": "2023-05-07T09:09:51.426235Z"
    }
   },
   "outputs": [
    {
     "name": "stdout",
     "output_type": "stream",
     "text": [
      "Epoch 1/100\n",
      " 402/1089 [==========>...................] - ETA: 2:45 - loss: 0.3328"
     ]
    }
   ],
   "source": [
    "model.fit(x=X_train,y=y_train,batch_size=1024,epochs=100,validation_split=0.2,callbacks=[checkpoint])"
   ]
  },
  {
   "cell_type": "code",
   "execution_count": null,
   "metadata": {},
   "outputs": [],
   "source": []
  },
  {
   "cell_type": "code",
   "execution_count": 10,
   "metadata": {
    "execution": {
     "iopub.execute_input": "2023-05-07T07:58:18.303857Z",
     "iopub.status.busy": "2023-05-07T07:58:18.303031Z",
     "iopub.status.idle": "2023-05-07T07:58:19.897200Z",
     "shell.execute_reply": "2023-05-07T07:58:19.896217Z",
     "shell.execute_reply.started": "2023-05-07T07:58:18.303811Z"
    }
   },
   "outputs": [],
   "source": [
    "\n",
    "from keras.models import load_model\n",
    "\n",
    "try11m = load_model(\"USDJPY_M5.h5\")\n",
    "sc1=load('USDJPY_M5_Scaler.bin')"
   ]
  },
  {
   "cell_type": "code",
   "execution_count": null,
   "metadata": {},
   "outputs": [],
   "source": [
    "try11m.summary()"
   ]
  },
  {
   "cell_type": "code",
   "execution_count": 17,
   "metadata": {},
   "outputs": [],
   "source": [
    "test = sc1.transform(test)"
   ]
  },
  {
   "cell_type": "code",
   "execution_count": 18,
   "metadata": {
    "execution": {
     "iopub.status.busy": "2023-04-20T18:24:54.854353Z",
     "iopub.status.idle": "2023-04-20T18:24:54.855091Z",
     "shell.execute_reply": "2023-04-20T18:24:54.854873Z",
     "shell.execute_reply.started": "2023-04-20T18:24:54.854849Z"
    }
   },
   "outputs": [],
   "source": [
    "n_future = 1\n",
    "n_past = 60\n",
    "X_test = []\n",
    "y_test = []\n",
    "for i in range( n_past , len(test)  ):\n",
    "    X_test.append(test[i-n_past:i   ])\n",
    "    y_test.append(test[i + n_future - 1 ])\n",
    " "
   ]
  },
  {
   "cell_type": "code",
   "execution_count": 21,
   "metadata": {
    "execution": {
     "iopub.status.busy": "2023-04-20T18:24:54.856496Z",
     "iopub.status.idle": "2023-04-20T18:24:54.857254Z",
     "shell.execute_reply": "2023-04-20T18:24:54.857015Z",
     "shell.execute_reply.started": "2023-04-20T18:24:54.856991Z"
    }
   },
   "outputs": [
    {
     "data": {
      "text/plain": [
       "(193399, 60, 1)"
      ]
     },
     "execution_count": 21,
     "metadata": {},
     "output_type": "execute_result"
    }
   ],
   "source": [
    "X_test.shape"
   ]
  },
  {
   "cell_type": "code",
   "execution_count": 19,
   "metadata": {
    "execution": {
     "iopub.execute_input": "2023-05-07T07:58:21.582253Z",
     "iopub.status.busy": "2023-05-07T07:58:21.581868Z",
     "iopub.status.idle": "2023-05-07T07:58:21.641808Z",
     "shell.execute_reply": "2023-05-07T07:58:21.640775Z",
     "shell.execute_reply.started": "2023-05-07T07:58:21.582219Z"
    }
   },
   "outputs": [],
   "source": [
    "X_test, y_test = np.array(X_test), np.array(y_test)"
   ]
  },
  {
   "cell_type": "code",
   "execution_count": 20,
   "metadata": {
    "execution": {
     "iopub.execute_input": "2023-05-07T07:58:23.599961Z",
     "iopub.status.busy": "2023-05-07T07:58:23.599150Z",
     "iopub.status.idle": "2023-05-07T07:58:23.605189Z",
     "shell.execute_reply": "2023-05-07T07:58:23.604177Z",
     "shell.execute_reply.started": "2023-05-07T07:58:23.599927Z"
    }
   },
   "outputs": [],
   "source": [
    "X_test = np.reshape(X_test, (X_test.shape[0], X_test.shape[1],1))"
   ]
  },
  {
   "cell_type": "code",
   "execution_count": 27,
   "metadata": {
    "execution": {
     "iopub.execute_input": "2023-05-07T07:58:37.579506Z",
     "iopub.status.busy": "2023-05-07T07:58:37.578805Z",
     "iopub.status.idle": "2023-05-07T07:58:42.541815Z",
     "shell.execute_reply": "2023-05-07T07:58:42.540848Z",
     "shell.execute_reply.started": "2023-05-07T07:58:37.579461Z"
    }
   },
   "outputs": [
    {
     "name": "stdout",
     "output_type": "stream",
     "text": [
      "4394/6044 [====================>.........] - ETA: 43s - loss: 5.8621e-06"
     ]
    },
    {
     "name": "stderr",
     "output_type": "stream",
     "text": [
      "\n",
      "KeyboardInterrupt\n",
      "\n"
     ]
    }
   ],
   "source": [
    "try11m.evaluate(X_test, y_test)"
   ]
  },
  {
   "cell_type": "code",
   "execution_count": 28,
   "metadata": {
    "execution": {
     "iopub.execute_input": "2023-05-07T07:58:27.248198Z",
     "iopub.status.busy": "2023-05-07T07:58:27.245625Z",
     "iopub.status.idle": "2023-05-07T07:58:31.808184Z",
     "shell.execute_reply": "2023-05-07T07:58:31.807215Z",
     "shell.execute_reply.started": "2023-05-07T07:58:27.248149Z"
    }
   },
   "outputs": [
    {
     "name": "stderr",
     "output_type": "stream",
     "text": [
      "\n",
      "KeyboardInterrupt\n",
      "\n"
     ]
    }
   ],
   "source": [
    "pred = try11m.predict(X_test)\n"
   ]
  },
  {
   "cell_type": "code",
   "execution_count": null,
   "metadata": {
    "execution": {
     "iopub.execute_input": "2023-05-07T07:58:34.058670Z",
     "iopub.status.busy": "2023-05-07T07:58:34.057768Z",
     "iopub.status.idle": "2023-05-07T07:58:34.067569Z",
     "shell.execute_reply": "2023-05-07T07:58:34.066176Z",
     "shell.execute_reply.started": "2023-05-07T07:58:34.058622Z"
    }
   },
   "outputs": [],
   "source": [
    "r2_score(y_test ,pred)*100"
   ]
  },
  {
   "cell_type": "code",
   "execution_count": 24,
   "metadata": {},
   "outputs": [
    {
     "data": {
      "text/plain": [
       "array([[102.68968],\n",
       "       [102.69941],\n",
       "       [102.70695],\n",
       "       ...,\n",
       "       [142.57848],\n",
       "       [142.61844],\n",
       "       [142.65161]], dtype=float32)"
      ]
     },
     "execution_count": 24,
     "metadata": {},
     "output_type": "execute_result"
    }
   ],
   "source": [
    "sc1.inverse_transform(pred)"
   ]
  },
  {
   "cell_type": "code",
   "execution_count": 25,
   "metadata": {},
   "outputs": [
    {
     "data": {
      "text/plain": [
       "array([[102.992],\n",
       "       [102.983],\n",
       "       [102.961],\n",
       "       ...,\n",
       "       [142.65 ],\n",
       "       [142.645],\n",
       "       [142.606]])"
      ]
     },
     "execution_count": 25,
     "metadata": {},
     "output_type": "execute_result"
    }
   ],
   "source": [
    "sc1.inverse_transform(y_test)"
   ]
  },
  {
   "cell_type": "code",
   "execution_count": 26,
   "metadata": {},
   "outputs": [
    {
     "data": {
      "text/plain": [
       "0.020731685230395966"
      ]
     },
     "execution_count": 26,
     "metadata": {},
     "output_type": "execute_result"
    }
   ],
   "source": [
    "mean_squared_error(sc1.inverse_transform(y_test) ,sc1.inverse_transform(pred)) "
   ]
  },
  {
   "cell_type": "code",
   "execution_count": null,
   "metadata": {},
   "outputs": [],
   "source": [
    "try11m.evaluate(X_train, y_train)"
   ]
  },
  {
   "cell_type": "code",
   "execution_count": null,
   "metadata": {},
   "outputs": [],
   "source": [
    "y_test"
   ]
  },
  {
   "cell_type": "code",
   "execution_count": null,
   "metadata": {},
   "outputs": [],
   "source": []
  },
  {
   "cell_type": "code",
   "execution_count": null,
   "metadata": {},
   "outputs": [],
   "source": []
  },
  {
   "cell_type": "code",
   "execution_count": null,
   "metadata": {},
   "outputs": [],
   "source": []
  },
  {
   "cell_type": "code",
   "execution_count": null,
   "metadata": {},
   "outputs": [],
   "source": []
  },
  {
   "cell_type": "code",
   "execution_count": null,
   "metadata": {},
   "outputs": [],
   "source": [
    "pred1 = try11m.predict(X_test[[1]])\n"
   ]
  },
  {
   "cell_type": "code",
   "execution_count": null,
   "metadata": {},
   "outputs": [],
   "source": [
    "mean_squared_error(sc1.inverse_transform(y_test[[1]]) ,sc1.inverse_transform(pred)) "
   ]
  },
  {
   "cell_type": "code",
   "execution_count": null,
   "metadata": {},
   "outputs": [],
   "source": [
    "(sc1.inverse_transform(y_test[[1]]) ,sc1.inverse_transform(pred1))"
   ]
  },
  {
   "cell_type": "code",
   "execution_count": null,
   "metadata": {},
   "outputs": [],
   "source": []
  },
  {
   "cell_type": "code",
   "execution_count": null,
   "metadata": {},
   "outputs": [],
   "source": []
  },
  {
   "cell_type": "code",
   "execution_count": null,
   "metadata": {},
   "outputs": [],
   "source": []
  },
  {
   "cell_type": "code",
   "execution_count": null,
   "metadata": {},
   "outputs": [],
   "source": []
  },
  {
   "cell_type": "code",
   "execution_count": null,
   "metadata": {},
   "outputs": [],
   "source": []
  },
  {
   "cell_type": "code",
   "execution_count": null,
   "metadata": {},
   "outputs": [],
   "source": []
  },
  {
   "cell_type": "code",
   "execution_count": null,
   "metadata": {
    "execution": {
     "iopub.status.busy": "2023-04-20T18:24:54.870348Z",
     "iopub.status.idle": "2023-04-20T18:24:54.871943Z",
     "shell.execute_reply": "2023-04-20T18:24:54.871710Z",
     "shell.execute_reply.started": "2023-04-20T18:24:54.871685Z"
    }
   },
   "outputs": [],
   "source": [
    "dataset_train.to_csv('EURUSDF1_1M.csv')"
   ]
  },
  {
   "cell_type": "code",
   "execution_count": null,
   "metadata": {
    "execution": {
     "iopub.status.busy": "2023-04-20T18:24:54.873327Z",
     "iopub.status.idle": "2023-04-20T18:24:54.874069Z",
     "shell.execute_reply": "2023-04-20T18:24:54.873842Z",
     "shell.execute_reply.started": "2023-04-20T18:24:54.873818Z"
    }
   },
   "outputs": [],
   "source": [
    "from keras.models import load_model\n",
    "\n",
    "model.save('lstm_best%994.h5')"
   ]
  },
  {
   "cell_type": "code",
   "execution_count": null,
   "metadata": {
    "execution": {
     "iopub.status.busy": "2023-04-20T18:24:54.875474Z",
     "iopub.status.idle": "2023-04-20T18:24:54.876229Z",
     "shell.execute_reply": "2023-04-20T18:24:54.876001Z",
     "shell.execute_reply.started": "2023-04-20T18:24:54.875977Z"
    }
   },
   "outputs": [],
   "source": [
    "import matplotlib.pyplot as plt"
   ]
  },
  {
   "cell_type": "code",
   "execution_count": null,
   "metadata": {
    "execution": {
     "iopub.status.busy": "2023-04-20T18:24:54.877617Z",
     "iopub.status.idle": "2023-04-20T18:24:54.878351Z",
     "shell.execute_reply": "2023-04-20T18:24:54.878121Z",
     "shell.execute_reply.started": "2023-04-20T18:24:54.878098Z"
    }
   },
   "outputs": [],
   "source": [
    "plt.figure(figsize=(30,20))\n",
    "plt.plot(pred, label='pred')\n",
    "plt.plot(y_test, label='acthail')\n",
    "\n",
    "plt.legend()\n",
    "plt.show()"
   ]
  },
  {
   "cell_type": "code",
   "execution_count": null,
   "metadata": {},
   "outputs": [],
   "source": []
  },
  {
   "cell_type": "code",
   "execution_count": null,
   "metadata": {
    "execution": {
     "iopub.status.busy": "2023-04-20T18:24:54.879740Z",
     "iopub.status.idle": "2023-04-20T18:24:54.880476Z",
     "shell.execute_reply": "2023-04-20T18:24:54.880256Z",
     "shell.execute_reply.started": "2023-04-20T18:24:54.880219Z"
    }
   },
   "outputs": [],
   "source": [
    "plt.figure(figsize=(16,16))\n",
    "plt.plot(model.history.history[\"loss\"], label=\"training loss\")\n",
    "plt.plot(model.history.history[\"val_loss\"], label=\"validation loss\")\n",
    "plt.legend()\n",
    "plt.show()"
   ]
  },
  {
   "cell_type": "code",
   "execution_count": null,
   "metadata": {
    "execution": {
     "iopub.status.busy": "2023-04-20T18:24:54.882062Z",
     "iopub.status.idle": "2023-04-20T18:24:54.882806Z",
     "shell.execute_reply": "2023-04-20T18:24:54.882565Z",
     "shell.execute_reply.started": "2023-04-20T18:24:54.882540Z"
    }
   },
   "outputs": [],
   "source": [
    "from keras.models import load_model\n",
    "\n",
    "model.save('lstm_best%998.h5')"
   ]
  },
  {
   "cell_type": "code",
   "execution_count": null,
   "metadata": {},
   "outputs": [],
   "source": []
  },
  {
   "cell_type": "code",
   "execution_count": null,
   "metadata": {},
   "outputs": [],
   "source": []
  },
  {
   "cell_type": "code",
   "execution_count": null,
   "metadata": {
    "execution": {
     "iopub.status.busy": "2023-04-20T18:24:54.884172Z",
     "iopub.status.idle": "2023-04-20T18:24:54.884938Z",
     "shell.execute_reply": "2023-04-20T18:24:54.884716Z",
     "shell.execute_reply.started": "2023-04-20T18:24:54.884692Z"
    }
   },
   "outputs": [],
   "source": [
    "from keras.models import load_model\n",
    "\n",
    "model.save('EURUSD2.h5')"
   ]
  },
  {
   "cell_type": "code",
   "execution_count": null,
   "metadata": {},
   "outputs": [],
   "source": []
  },
  {
   "cell_type": "code",
   "execution_count": null,
   "metadata": {},
   "outputs": [],
   "source": []
  },
  {
   "cell_type": "code",
   "execution_count": null,
   "metadata": {},
   "outputs": [],
   "source": []
  },
  {
   "cell_type": "code",
   "execution_count": null,
   "metadata": {
    "execution": {
     "iopub.status.busy": "2023-04-20T18:24:54.886293Z",
     "iopub.status.idle": "2023-04-20T18:24:54.887041Z",
     "shell.execute_reply": "2023-04-20T18:24:54.886813Z",
     "shell.execute_reply.started": "2023-04-20T18:24:54.886789Z"
    }
   },
   "outputs": [],
   "source": [
    "'''\n",
    "model = keras.Sequential()\n",
    "model.add(LSTM(100, return_sequences=True, input_shape=(X_train.shape[1], 4)))\n",
    "model.add(LSTM(100, return_sequences=False))\n",
    "model.add(Dense(25))\n",
    "model.add(Dense(1))\n",
    "model.summary()\n",
    "model.compile(loss='mean_squared_error', optimizer='adam')\n",
    "'''"
   ]
  },
  {
   "cell_type": "markdown",
   "metadata": {},
   "source": [
    "model = Sequential()\n",
    "model.add(LSTM(units=50,return_sequences=True,input_shape=(X_train.shape[1], 1)))\n",
    "model.add(Dropout(0.2))\n",
    "model.add(LSTM(units=50,return_sequences=True))\n",
    "model.add(Dropout(0.2))\n",
    "model.add(LSTM(units=50,return_sequences=True))\n",
    "model.add(Dropout(0.2))\n",
    "model.add(LSTM(units=50))\n",
    "model.add(Dropout(0.2))\n",
    "model.add(Dense(units=1))\n",
    "model.compile(optimizer='adam',loss='mean_squared_error')\n"
   ]
  },
  {
   "cell_type": "markdown",
   "metadata": {},
   "source": [
    "model=Sequential()\n",
    "model.add(LSTM(128,return_sequences=True,input_shape=(X_train.shape[1],4)))\n",
    "model.add(LSTM(64, return_sequences=False))\n",
    "model.add(Dense(25))\n",
    "model.add(Dense(1))\n",
    "model.summary()\n",
    "\n",
    "model.compile(optimizer='adam', loss='mean_squared_error')\n"
   ]
  },
  {
   "cell_type": "code",
   "execution_count": null,
   "metadata": {
    "execution": {
     "iopub.status.busy": "2023-04-20T18:24:54.888481Z",
     "iopub.status.idle": "2023-04-20T18:24:54.889258Z",
     "shell.execute_reply": "2023-04-20T18:24:54.889022Z",
     "shell.execute_reply.started": "2023-04-20T18:24:54.888997Z"
    }
   },
   "outputs": [],
   "source": [
    "'''\n",
    "model = Sequential()\n",
    "model.add(LSTM(units=96, return_sequences=True, input_shape=(X_train.shape[1], 4)))\n",
    "model.add(Dropout(0.2))\n",
    "model.add(LSTM(units=96,return_sequences=True))\n",
    "model.add(Dropout(0.2))\n",
    "model.add(LSTM(units=96,return_sequences=True))\n",
    "model.add(Dropout(0.2))\n",
    "model.add(LSTM(units=96))\n",
    "model.add(Dropout(0.2))\n",
    "model.add(Dense(units=1))\n",
    "model.compile(loss='mean_squared_error', optimizer='adam')\n",
    "'''"
   ]
  },
  {
   "cell_type": "code",
   "execution_count": null,
   "metadata": {
    "execution": {
     "iopub.status.busy": "2023-04-20T18:24:54.890656Z",
     "iopub.status.idle": "2023-04-20T18:24:54.891400Z",
     "shell.execute_reply": "2023-04-20T18:24:54.891162Z",
     "shell.execute_reply.started": "2023-04-20T18:24:54.891138Z"
    }
   },
   "outputs": [],
   "source": [
    "model = Sequential()\n",
    "model.add(LSTM(128,\n",
    "               input_shape=(X_train.shape[1], 4),\n",
    "               return_sequences=True))\n",
    "model.add(Dropout(0.2))\n",
    "model.add(BatchNormalization())  #normalizes activation outputs, same reason you want to normalize your input data.\n",
    "    \n",
    "model.add(LSTM(128, return_sequences=True))\n",
    "model.add(Dropout(0.1))\n",
    "model.add(BatchNormalization())\n",
    "    \n",
    "model.add(LSTM(128))\n",
    "model.add(Dropout(0.2))\n",
    "model.add(BatchNormalization())\n",
    "    \n",
    "model.add(Dense(32, activation='relu'))\n",
    "model.add(Dropout(0.2))\n",
    "    \n",
    "model.add(Dense(units=1)) \n",
    "\n",
    "model.compile(\n",
    "        loss='mean_squared_error',\n",
    "        optimizer='adam',\n",
    "     \n",
    "    )"
   ]
  },
  {
   "cell_type": "code",
   "execution_count": null,
   "metadata": {
    "execution": {
     "iopub.status.busy": "2023-04-20T18:24:54.892810Z",
     "iopub.status.idle": "2023-04-20T18:24:54.893551Z",
     "shell.execute_reply": "2023-04-20T18:24:54.893323Z",
     "shell.execute_reply.started": "2023-04-20T18:24:54.893299Z"
    }
   },
   "outputs": [],
   "source": [
    "model.fit(\n",
    "        X_train, y_train\n",
    "        , batch_size=200, epochs=50\n",
    "  \n",
    "    )"
   ]
  },
  {
   "cell_type": "markdown",
   "metadata": {},
   "source": []
  },
  {
   "cell_type": "code",
   "execution_count": null,
   "metadata": {
    "execution": {
     "iopub.status.busy": "2023-04-20T18:24:54.894922Z",
     "iopub.status.idle": "2023-04-20T18:24:54.895685Z",
     "shell.execute_reply": "2023-04-20T18:24:54.895448Z",
     "shell.execute_reply.started": "2023-04-20T18:24:54.895423Z"
    }
   },
   "outputs": [],
   "source": [
    "from keras.models import load_model\n",
    "\n",
    "model.save('EURGBPF7.h5')"
   ]
  },
  {
   "cell_type": "code",
   "execution_count": null,
   "metadata": {},
   "outputs": [],
   "source": []
  },
  {
   "cell_type": "code",
   "execution_count": null,
   "metadata": {},
   "outputs": [],
   "source": []
  },
  {
   "cell_type": "code",
   "execution_count": null,
   "metadata": {
    "execution": {
     "iopub.status.busy": "2023-04-20T18:24:54.897035Z",
     "iopub.status.idle": "2023-04-20T18:24:54.897796Z",
     "shell.execute_reply": "2023-04-20T18:24:54.897557Z",
     "shell.execute_reply.started": "2023-04-20T18:24:54.897532Z"
    }
   },
   "outputs": [],
   "source": [
    "triget = training_set.iloc[:, 4:5]\n",
    "\n"
   ]
  },
  {
   "cell_type": "code",
   "execution_count": null,
   "metadata": {
    "execution": {
     "iopub.status.busy": "2023-04-20T18:24:54.899169Z",
     "iopub.status.idle": "2023-04-20T18:24:54.899939Z",
     "shell.execute_reply": "2023-04-20T18:24:54.899706Z",
     "shell.execute_reply.started": "2023-04-20T18:24:54.899682Z"
    }
   },
   "outputs": [],
   "source": [
    "target = sct.fit_transform(triget)"
   ]
  },
  {
   "cell_type": "code",
   "execution_count": null,
   "metadata": {
    "execution": {
     "iopub.status.busy": "2023-04-20T18:24:54.901458Z",
     "iopub.status.idle": "2023-04-20T18:24:54.902313Z",
     "shell.execute_reply": "2023-04-20T18:24:54.902084Z",
     "shell.execute_reply.started": "2023-04-20T18:24:54.902061Z"
    }
   },
   "outputs": [],
   "source": [
    "predictions = model.predict(X_train)\n",
    "predictions = sct.inverse_transform(predictions)\n",
    "rmse = np.sqrt(np.mean(predictions - y_train)**2)\n",
    "rmse"
   ]
  },
  {
   "cell_type": "code",
   "execution_count": null,
   "metadata": {},
   "outputs": [],
   "source": []
  },
  {
   "cell_type": "code",
   "execution_count": null,
   "metadata": {},
   "outputs": [],
   "source": []
  },
  {
   "cell_type": "code",
   "execution_count": null,
   "metadata": {},
   "outputs": [],
   "source": []
  },
  {
   "cell_type": "code",
   "execution_count": null,
   "metadata": {
    "execution": {
     "iopub.status.busy": "2023-04-20T18:24:54.903707Z",
     "iopub.status.idle": "2023-04-20T18:24:54.904455Z",
     "shell.execute_reply": "2023-04-20T18:24:54.904217Z",
     "shell.execute_reply.started": "2023-04-20T18:24:54.904193Z"
    }
   },
   "outputs": [],
   "source": [
    "regression= Sequential()\n",
    "\n",
    "#First Input layer and LSTM layer with 0.2% dropout\n",
    "regression.add(LSTM(units=50,return_sequences=True,kernel_initializer='glorot_uniform',input_shape=(X_train.shape[1],1)))\n",
    "regression.add(Dropout(0.2))\n",
    "\n",
    "# Where:\n",
    "#     return_sequences: Boolean. Whether to return the last output in the output sequence, or the full sequence.\n",
    "\n",
    "# Second LSTM layer with 0.2% dropout\n",
    "regression.add(LSTM(units=50,kernel_initializer='glorot_uniform',return_sequences=True))\n",
    "regression.add(Dropout(0.2))\n",
    "\n",
    "#Third LSTM layer with 0.2% dropout\n",
    "regression.add(LSTM(units=50,kernel_initializer='glorot_uniform',return_sequences=True))\n",
    "regression.add(Dropout(0.2))\n",
    "\n",
    "#Fourth LSTM layer with 0.2% dropout, we wont use return sequence true in last layers as we dont want to previous output\n",
    "regression.add(LSTM(units=50,kernel_initializer='glorot_uniform'))\n",
    "regression.add(Dropout(0.2))\n",
    "#Output layer , we wont pass any activation as its continous value model\n",
    "regression.add(Dense(units=1))\n",
    "\n",
    "#Compiling the network\n",
    "regression.compile(optimizer='adam',loss='mean_squared_error')"
   ]
  },
  {
   "cell_type": "code",
   "execution_count": null,
   "metadata": {
    "execution": {
     "iopub.status.busy": "2023-04-20T18:24:54.905843Z",
     "iopub.status.idle": "2023-04-20T18:24:54.906605Z",
     "shell.execute_reply": "2023-04-20T18:24:54.906362Z",
     "shell.execute_reply.started": "2023-04-20T18:24:54.906337Z"
    }
   },
   "outputs": [],
   "source": [
    "'''\n",
    "earlyStoppingCallback = keras.callbacks.EarlyStopping(monitor='loss', patience=3)\n",
    "model = Sequential()\n",
    "model.add(LSTM(128,\n",
    "               input_shape=(X_train.shape[1], 5),\n",
    "               return_sequences=True))\n",
    "model.add(Dropout(0.2))\n",
    "model.add(BatchNormalization())  #normalizes activation outputs, same reason you want to normalize your input data.\n",
    "    \n",
    "model.add(LSTM(128, return_sequences=True))\n",
    "model.add(Dropout(0.1))\n",
    "model.add(BatchNormalization())\n",
    "    \n",
    "model.add(LSTM(128))\n",
    "model.add(Dropout(0.2))\n",
    "model.add(BatchNormalization())\n",
    "    \n",
    "model.add(Dense(32, activation='relu'))\n",
    "model.add(Dropout(0.2))\n",
    "    \n",
    "model.add(Dense(units=1)) \n",
    "\n",
    "model.compile(\n",
    "        loss='mean_squared_error',\n",
    "        optimizer='adam',\n",
    "     \n",
    "    )\n",
    "    '''"
   ]
  },
  {
   "cell_type": "code",
   "execution_count": null,
   "metadata": {
    "execution": {
     "iopub.status.busy": "2023-04-20T18:24:54.907970Z",
     "iopub.status.idle": "2023-04-20T18:24:54.908728Z",
     "shell.execute_reply": "2023-04-20T18:24:54.908491Z",
     "shell.execute_reply.started": "2023-04-20T18:24:54.908466Z"
    }
   },
   "outputs": [],
   "source": [
    "regression.fit(X_train,y_train,batch_size=30,epochs=1)"
   ]
  },
  {
   "cell_type": "code",
   "execution_count": null,
   "metadata": {},
   "outputs": [],
   "source": []
  },
  {
   "cell_type": "code",
   "execution_count": null,
   "metadata": {},
   "outputs": [],
   "source": []
  },
  {
   "cell_type": "code",
   "execution_count": null,
   "metadata": {},
   "outputs": [],
   "source": []
  },
  {
   "cell_type": "code",
   "execution_count": null,
   "metadata": {},
   "outputs": [],
   "source": []
  },
  {
   "cell_type": "code",
   "execution_count": null,
   "metadata": {},
   "outputs": [],
   "source": []
  },
  {
   "cell_type": "code",
   "execution_count": null,
   "metadata": {},
   "outputs": [],
   "source": []
  },
  {
   "cell_type": "code",
   "execution_count": null,
   "metadata": {},
   "outputs": [],
   "source": []
  },
  {
   "cell_type": "code",
   "execution_count": null,
   "metadata": {},
   "outputs": [],
   "source": []
  },
  {
   "cell_type": "code",
   "execution_count": null,
   "metadata": {
    "execution": {
     "iopub.status.busy": "2023-04-20T18:24:54.910074Z",
     "iopub.status.idle": "2023-04-20T18:24:54.910811Z",
     "shell.execute_reply": "2023-04-20T18:24:54.910573Z",
     "shell.execute_reply.started": "2023-04-20T18:24:54.910550Z"
    }
   },
   "outputs": [],
   "source": [
    "model.fit(X_train,y_train,epochs=10,batch_size=32)"
   ]
  },
  {
   "cell_type": "code",
   "execution_count": null,
   "metadata": {},
   "outputs": [],
   "source": []
  },
  {
   "cell_type": "code",
   "execution_count": null,
   "metadata": {},
   "outputs": [],
   "source": []
  },
  {
   "cell_type": "code",
   "execution_count": null,
   "metadata": {},
   "outputs": [],
   "source": []
  },
  {
   "cell_type": "code",
   "execution_count": null,
   "metadata": {},
   "outputs": [],
   "source": []
  },
  {
   "cell_type": "code",
   "execution_count": null,
   "metadata": {},
   "outputs": [],
   "source": []
  },
  {
   "cell_type": "code",
   "execution_count": null,
   "metadata": {},
   "outputs": [],
   "source": []
  },
  {
   "cell_type": "code",
   "execution_count": null,
   "metadata": {},
   "outputs": [],
   "source": []
  },
  {
   "cell_type": "code",
   "execution_count": null,
   "metadata": {},
   "outputs": [],
   "source": []
  },
  {
   "cell_type": "code",
   "execution_count": null,
   "metadata": {},
   "outputs": [],
   "source": []
  },
  {
   "cell_type": "code",
   "execution_count": null,
   "metadata": {},
   "outputs": [],
   "source": []
  },
  {
   "cell_type": "code",
   "execution_count": null,
   "metadata": {},
   "outputs": [],
   "source": []
  },
  {
   "cell_type": "code",
   "execution_count": null,
   "metadata": {},
   "outputs": [],
   "source": []
  },
  {
   "cell_type": "code",
   "execution_count": null,
   "metadata": {},
   "outputs": [],
   "source": []
  },
  {
   "cell_type": "code",
   "execution_count": null,
   "metadata": {},
   "outputs": [],
   "source": []
  },
  {
   "cell_type": "code",
   "execution_count": null,
   "metadata": {},
   "outputs": [],
   "source": []
  }
 ],
 "metadata": {
  "kernelspec": {
   "display_name": "Python 3 (ipykernel)",
   "language": "python",
   "name": "python3"
  },
  "language_info": {
   "codemirror_mode": {
    "name": "ipython",
    "version": 3
   },
   "file_extension": ".py",
   "mimetype": "text/x-python",
   "name": "python",
   "nbconvert_exporter": "python",
   "pygments_lexer": "ipython3",
   "version": "3.9.16"
  }
 },
 "nbformat": 4,
 "nbformat_minor": 4
}
